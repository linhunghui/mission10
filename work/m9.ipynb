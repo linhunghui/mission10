{
 "cells": [
  {
   "cell_type": "code",
   "execution_count": null,
   "metadata": {},
   "outputs": [
    {
     "name": "stdout",
     "output_type": "stream",
     "text": [
      "Requirement already satisfied: pandas in /opt/conda/lib/python3.7/site-packages (0.23.4)\n",
      "Requirement already satisfied: pytz>=2011k in /opt/conda/lib/python3.7/site-packages (from pandas) (2018.9)\n",
      "Requirement already satisfied: numpy>=1.9.0 in /opt/conda/lib/python3.7/site-packages (from pandas) (1.15.4)\n",
      "Requirement already satisfied: python-dateutil>=2.5.0 in /opt/conda/lib/python3.7/site-packages (from pandas) (2.7.5)\n",
      "Requirement already satisfied: six>=1.5 in /opt/conda/lib/python3.7/site-packages (from python-dateutil>=2.5.0->pandas) (1.12.0)\n"
     ]
    }
   ],
   "source": [
    "#安裝及引用套件\n",
    "!pip install pandas\n",
    "import os\n",
    "import pymysql\n",
    "import pandas as pd\n",
    "\n",
    "#連線資料庫\n",
    "host = os.getenv('MYSQL_HOST')\n",
    "port = os.getenv('MYSQL_PORT')\n",
    "user = os.getenv('MYSQL_USER')\n",
    "password = os.getenv('MYSQL_PASSWORD')\n",
    "database = os.getenv('MYSQL_DATABASE')\n",
    "\n",
    "conn = pymysql.connect(\n",
    "    host='mysql',\n",
    "    user='root',\n",
    "    passwd='ggboy',\n",
    "    charset='utf8mb4')\n",
    "\n",
    "\n",
    "#新增database(假如有一樣名字的先刪掉)\n",
    "conn.cursor().execute('DROP DATABASE IF EXISTS ggdatabase')\n",
    "conn.cursor().execute('create database ggdatabase')\n",
    "mycursor=conn.cursor()\n",
    "mycursor.execute(\"SHOW DATABASES\")\n",
    "#列出目前有的database\n",
    "print('=========================以下為現有的database===================')\n",
    "for x in mycursor:\n",
    "    print(x)\n",
    "\n",
    "#建立table(假如有一樣名字的先刪掉)並定義table內的表格字元及欄位\n",
    "mycursor.execute('DROP table IF EXISTS ggdatabase.ggtable')\n",
    "mycursor.execute(\"CREATE TABLE ggdatabase.ggtable (id INT AUTO_INCREMENT PRIMARY KEY, name VARCHAR(255), age VARCHAR(255),gender VARCHAR(255))\")\n",
    "\n",
    "#插入多行資料\n",
    "sql = \"INSERT INTO ggdatabase.ggtable (name, age, gender) VALUES (%s, %s, %s)\"\n",
    "val = [(\"John\", \"21\", \"male\"),(\"Peter\",\"22\",\"male\"),(\"Mary\",\"23\",\"female\")]\n",
    "mycursor.executemany(sql,val)\n",
    "\n",
    "#提交語句到資料庫\n",
    "conn.commit()\n",
    "#印出插入幾筆資料\n",
    "print(mycursor.rowcount, \"was inserted.\")\n",
    "\n",
    "#查找資料(選取table及過濾條件)\n",
    "mycursor.execute(\"SELECT * FROM ggdatabase.ggtable\")\n",
    "myresult = mycursor.fetchall()\n",
    "#將過濾後的資料印出\n",
    "for x in myresult:\n",
    "    print(x)\n",
    "#結束連線\n",
    "conn.close()"
   ]
  },
  {
   "cell_type": "code",
   "execution_count": null,
   "metadata": {},
   "outputs": [],
   "source": []
  }
 ],
 "metadata": {
  "kernelspec": {
   "display_name": "Python 3",
   "language": "python",
   "name": "python3"
  },
  "language_info": {
   "codemirror_mode": {
    "name": "ipython",
    "version": 3
   },
   "file_extension": ".py",
   "mimetype": "text/x-python",
   "name": "python",
   "nbconvert_exporter": "python",
   "pygments_lexer": "ipython3",
   "version": "3.7.1"
  }
 },
 "nbformat": 4,
 "nbformat_minor": 2
}
